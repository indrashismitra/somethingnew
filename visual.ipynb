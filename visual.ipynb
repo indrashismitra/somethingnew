import pandas as pd
import matplotlib.pyplot as plt
cereal = pd.read_csv('cereal.csv')
cereal.head()
cereal.info()
plt.bar(cereal['name'],cereal['calories'])



